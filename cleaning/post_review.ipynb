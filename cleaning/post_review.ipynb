{
 "cells": [
  {
   "cell_type": "code",
   "execution_count": 1,
   "metadata": {},
   "outputs": [
    {
     "name": "stdout",
     "output_type": "stream",
     "text": [
      "Invalid transactions saved to invalid_transactions.csv\n"
     ]
    }
   ],
   "source": [
    "import pandas as pd\n",
    "\n",
    "# Load the dataset\n",
    "file_path = \"../data/EXPORT_Cleaned_TPA_data.csv\"\n",
    "\n",
    "try:\n",
    "    df = pd.read_csv(file_path)\n",
    "\n",
    "    def classify_transaction(row):\n",
    "        if pd.isna(row['Amount (£)']):  # If Amount is NaN\n",
    "            return \"Unknown\"\n",
    "\n",
    "        if row['Amount (£)'] > 0:\n",
    "            return \"Purchase\"\n",
    "        elif row['Amount (£)'] < 0:\n",
    "            # Correcting for \"Refunded\" status\n",
    "            if row['Transaction Status'] in [\"Refunded\", \"Completed\"]:\n",
    "                return \"Refund\"\n",
    "            elif row['Transaction Status'] == \"Failed\":\n",
    "                return \"Failed Refund\"\n",
    "            elif row['Transaction Status'] == \"Pending\":\n",
    "                return \"Pending Refund\"\n",
    "        elif row['Amount (£)'] == 0:\n",
    "            if row['Transaction Status'] == \"Failed\":\n",
    "                return \"Failed Transaction\"\n",
    "            elif row['Promotion/Discount Applied'] != \"No\":\n",
    "                return \"Loyalty Redemption\"\n",
    "            elif row['Transaction Status'] == \"Completed\":\n",
    "                return \"Invalid Completed Transaction\"  # Explicitly marking the issue\n",
    "\n",
    "        return \"Unclassified\"  # Instead of \"Other\", this helps track unknown cases\n",
    "\n",
    "    # Apply the function to classify transactions\n",
    "    df['Transaction Type'] = df.apply(classify_transaction, axis=1)\n",
    "\n",
    "    # Check how many transactions are now classified as \"Invalid Completed Transaction\"\n",
    "    invalid_completed_transactions = df[df['Transaction Type'] == \"Invalid Completed Transaction\"]\n",
    "\n",
    "    # Save problematic transactions to a CSV file\n",
    "    invalid_completed_transactions.to_csv(\"invalid_transactions.csv\", index=False)\n",
    "    print(\"Invalid transactions saved to invalid_transactions.csv\")\n",
    "\n",
    "except FileNotFoundError:\n",
    "    print(f\"Error: The file {file_path} was not found. Please check the file path.\")\n",
    "except Exception as e:\n",
    "    print(f\"An unexpected error occurred: {e}\")"
   ]
  },
  {
   "cell_type": "code",
   "execution_count": 2,
   "metadata": {},
   "outputs": [
    {
     "name": "stdout",
     "output_type": "stream",
     "text": [
      "/Users/jackrobertson/TPA_CleanAndAnalysis/venv/bin/python\n"
     ]
    }
   ],
   "source": [
    "import sys\n",
    "print(sys.executable)"
   ]
  },
  {
   "cell_type": "code",
   "execution_count": 3,
   "metadata": {},
   "outputs": [
    {
     "name": "stdout",
     "output_type": "stream",
     "text": [
      "Cleaned dataset saved as EXPORT_Cleaned_TPA_data_Final.csv\n"
     ]
    }
   ],
   "source": [
    "import pandas as pd\n",
    "\n",
    "# Load the dataset\n",
    "file_path = \"../data/EXPORT_Cleaned_TPA_data.csv\"\n",
    "\n",
    "try:\n",
    "    df = pd.read_csv(file_path)\n",
    "\n",
    "    def classify_transaction(row):\n",
    "        if pd.isna(row['Amount (£)']):  # If Amount is NaN\n",
    "            return \"Unknown\"\n",
    "\n",
    "        if row['Amount (£)'] > 0:\n",
    "            return \"Purchase\"\n",
    "        elif row['Amount (£)'] < 0:\n",
    "            # Correcting for \"Refunded\" status\n",
    "            if row['Transaction Status'] == \"Refunded\":\n",
    "                return \"Refund\"\n",
    "            elif row['Transaction Status'] == \"Failed\":\n",
    "                return \"Failed Refund\"\n",
    "            elif row['Transaction Status'] == \"Pending\":\n",
    "                return \"Pending Refund\"\n",
    "        elif row['Amount (£)'] == 0:\n",
    "            if row['Transaction Status'] == \"Failed\":\n",
    "                return \"Failed Transaction\"\n",
    "            elif row['Promotion/Discount Applied'] != \"No\":\n",
    "                return \"Loyalty Redemption\"\n",
    "            elif row['Transaction Status'] == \"Completed\":\n",
    "                return None  # Marking for deletion\n",
    "\n",
    "        return \"Unclassified\"  # Instead of \"Other\", this helps track unknown cases\n",
    "\n",
    "    # Apply the function to classify transactions\n",
    "    df['Transaction Type'] = df.apply(classify_transaction, axis=1)\n",
    "\n",
    "    # Drop only completed transactions with zero amount, but retain refunds\n",
    "    df_cleaned = df[~((df[\"Amount (£)\"] == 0) & (df[\"Transaction Status\"] == \"Completed\"))]\n",
    "\n",
    "    # Ensure refunds remain, but reclassify mislabelled refunds\n",
    "    df_cleaned.loc[(df_cleaned[\"Amount (£)\"] < 0) & (df_cleaned[\"Transaction Status\"] == \"Completed\"), \"Transaction Status\"] = \"Refunded\"\n",
    "\n",
    "    # Ensure debit card transactions on mobile are correctly categorized as digital wallet\n",
    "    df_cleaned.loc[(df_cleaned[\"Payment Method\"] == \"Debit Card\") & (df_cleaned[\"Customer Device Type\"] == \"Mobile\"), \"Payment Method\"] = \"Digital Wallet\"\n",
    "\n",
    "    # Drop incorrect positive refunds\n",
    "    df_cleaned = df_cleaned[~((df_cleaned[\"Transaction Status\"] == \"Refunded\") & (df_cleaned[\"Amount (£)\"] > 0))]\n",
    "\n",
    "    # Save the cleaned dataset\n",
    "    cleaned_file_path = \"EXPORT_Cleaned_TPA_data_Final.csv\"\n",
    "    df_cleaned.to_csv(cleaned_file_path, index=False)\n",
    "    \n",
    "    print(\"Cleaned dataset saved as EXPORT_Cleaned_TPA_data_Final.csv\")\n",
    "\n",
    "except FileNotFoundError:\n",
    "    print(f\"Error: The file {file_path} was not found. Please check the file path.\")\n",
    "except Exception as e:\n",
    "    print(f\"An unexpected error occurred: {e}\")"
   ]
  },
  {
   "cell_type": "markdown",
   "metadata": {},
   "source": [
    "# Format Updated"
   ]
  },
  {
   "cell_type": "code",
   "execution_count": 5,
   "metadata": {},
   "outputs": [
    {
     "name": "stdout",
     "output_type": "stream",
     "text": [
      "<class 'pandas.core.frame.DataFrame'>\n",
      "RangeIndex: 152 entries, 0 to 151\n",
      "Data columns (total 13 columns):\n",
      " #   Column                         Non-Null Count  Dtype         \n",
      "---  ------                         --------------  -----         \n",
      " 0   transaction_ID                 152 non-null    object        \n",
      " 1   date                           152 non-null    datetime64[ns]\n",
      " 2   Amount_GBP                     152 non-null    float64       \n",
      " 3   payment_method                 152 non-null    object        \n",
      " 4   merchant_category              152 non-null    object        \n",
      " 5   location                       152 non-null    object        \n",
      " 6   customer_segment               152 non-null    object        \n",
      " 7   transaction_status             152 non-null    object        \n",
      " 8   sales_channel                  152 non-null    object        \n",
      " 9   customer_device_type           152 non-null    object        \n",
      " 10  promotion_or_discount_applied  152 non-null    object        \n",
      " 11  time                           89 non-null     object        \n",
      " 12  transaction_type               152 non-null    object        \n",
      "dtypes: datetime64[ns](1), float64(1), object(11)\n",
      "memory usage: 15.6+ KB\n"
     ]
    }
   ],
   "source": [
    "import pandas as pd\n",
    "\n",
    "df = pd.read_csv(\"../data/EXPORT_Cleaned_TPA_data_Final.csv\")\n",
    "\n",
    "df['date'] = pd.to_datetime(df['date'], dayfirst=True)  # dayfirst=True for UK date formats\n",
    "\n",
    "# Check if conversion worked\n",
    "df.info()  # 'date' should now be 'datetime64[ns]'"
   ]
  },
  {
   "cell_type": "code",
   "execution_count": 7,
   "metadata": {},
   "outputs": [],
   "source": [
    "df['date'] = pd.to_datetime(df['date'], errors='coerce', dayfirst=True)"
   ]
  },
  {
   "cell_type": "code",
   "execution_count": 9,
   "metadata": {},
   "outputs": [],
   "source": [
    "df.to_csv(\"../data/F_EXPORT_Cleaned_TPA_data_Final.csv\", index=False)\n"
   ]
  },
  {
   "cell_type": "code",
   "execution_count": null,
   "metadata": {},
   "outputs": [],
   "source": []
  }
 ],
 "metadata": {
  "kernelspec": {
   "display_name": "venv",
   "language": "python",
   "name": "python3"
  },
  "language_info": {
   "codemirror_mode": {
    "name": "ipython",
    "version": 3
   },
   "file_extension": ".py",
   "mimetype": "text/x-python",
   "name": "python",
   "nbconvert_exporter": "python",
   "pygments_lexer": "ipython3",
   "version": "3.12.2"
  }
 },
 "nbformat": 4,
 "nbformat_minor": 2
}
