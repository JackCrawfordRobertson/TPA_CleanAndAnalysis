{
 "cells": [
  {
   "cell_type": "code",
   "execution_count": 1,
   "metadata": {},
   "outputs": [],
   "source": [
    "import pandas as pd\n",
    "import re\n",
    "df = pd.read_csv(\"../data/Amount_Cleaned.csv\")"
   ]
  },
  {
   "cell_type": "code",
   "execution_count": 2,
   "metadata": {},
   "outputs": [
    {
     "name": "stdout",
     "output_type": "stream",
     "text": [
      "Empty DataFrame\n",
      "Columns: [Merchant Category]\n",
      "Index: []\n"
     ]
    }
   ],
   "source": [
    "non_strings = df[~df['Merchant Category'].apply(lambda x: isinstance(x, str))]\n",
    "print(non_strings[['Merchant Category']].head(10))"
   ]
  },
  {
   "cell_type": "code",
   "execution_count": 3,
   "metadata": {},
   "outputs": [
    {
     "name": "stdout",
     "output_type": "stream",
     "text": [
      "['Retail' 'Food & Beverage' 'Travel' 'Entertainment' 'Services']\n"
     ]
    }
   ],
   "source": [
    "df['Merchant Category'] = df['Merchant Category'].fillna('').astype(str)\n",
    "\n",
    "category_corrections = {\n",
    "    'Food & Bevergae': 'Food & Beverage',\n",
    "    'Trave': 'Travel',\n",
    "    'Srvices': 'Services',\n",
    "    'Food & Bevera ge': 'Food & Beverage',\n",
    "    'Travél': 'Travel',\n",
    "    'Tra®vel': 'Travel',\n",
    "    'merchent catagot': 'Merchant Category'\n",
    "}\n",
    "\n",
    "df['Merchant Category'] = df['Merchant Category'].replace(category_corrections)\n",
    "\n",
    "df['Merchant Category'] = df['Merchant Category'].str.strip().str.title()\n",
    "\n",
    "print(df['Merchant Category'].unique())"
   ]
  },
  {
   "cell_type": "code",
   "execution_count": 4,
   "metadata": {},
   "outputs": [
    {
     "name": "stdout",
     "output_type": "stream",
     "text": [
      "['Retail' 'Food & Beverage' 'Travel' 'Entertainment' 'Services']\n"
     ]
    }
   ],
   "source": [
    "df['Merchant Category'] = df['Merchant Category'].replace(re.compile(r'[^a-zA-Z\\s&/]+', re.IGNORECASE), '', regex=True)\n",
    "\n",
    "print(df['Merchant Category'].unique())"
   ]
  },
  {
   "cell_type": "code",
   "execution_count": 5,
   "metadata": {},
   "outputs": [
    {
     "name": "stdout",
     "output_type": "stream",
     "text": [
      "0             Retail\n",
      "1    Food & Beverage\n",
      "2             Travel\n",
      "3      Entertainment\n",
      "4           Services\n",
      "5             Retail\n",
      "6    Food & Beverage\n",
      "7             Travel\n",
      "8      Entertainment\n",
      "9           Services\n",
      "Name: Merchant Category, dtype: object\n"
     ]
    }
   ],
   "source": [
    "print(df['Merchant Category'].head(10))"
   ]
  },
  {
   "cell_type": "code",
   "execution_count": 6,
   "metadata": {},
   "outputs": [
    {
     "name": "stdout",
     "output_type": "stream",
     "text": [
      "(170, 13)\n",
      "  Transaction ID        Date  Amount (£)  Payment Method Merchant Category  \\\n",
      "0        T000001  2023-01-15      245.67     Credit Card            Retail   \n",
      "1        T000002  2023-02-11       98.34  Mobile Payment   Food & Beverage   \n",
      "2        T000003  2023-03-22      500.25  Digital Wallet            Travel   \n",
      "3        T000004  2023-04-10       75.89      Debit Card     Entertainment   \n",
      "4        T000005  2023-05-30      320.00   Bank Transfer          Services   \n",
      "\n",
      "     Location Customer Segment Transaction Status Sales Channel  \\\n",
      "0      London            26-35          Completed        Online   \n",
      "1  Manchester            18-25            Pending    Mobile App   \n",
      "2  Birmingham            36-45          Completed        Online   \n",
      "3     Glasgow            46-60             Failed      In-Store   \n",
      "4     Bristol              60+           Refunded  Subscription   \n",
      "\n",
      "  Customer Device Type Promotion/Discount Applied   Time Transaction Type  \n",
      "0               Mobile                         No  12:34         Purchase  \n",
      "1              Desktop             Seasonal Offer  08:45         Purchase  \n",
      "2               Mobile                        Yes  14:22         Purchase  \n",
      "3           Smartwatch                         No  16:50         Purchase  \n",
      "4               Tablet    Loyalty Points Redeemed  10:15         Purchase  \n"
     ]
    }
   ],
   "source": [
    "print(df.shape)\n",
    "print(df.head())\n"
   ]
  },
  {
   "cell_type": "code",
   "execution_count": 7,
   "metadata": {},
   "outputs": [],
   "source": [
    "df.to_csv(\"../data/Merchant_Cleaned.csv\", index=False)"
   ]
  },
  {
   "cell_type": "markdown",
   "metadata": {},
   "source": [
    "### Location cleaning "
   ]
  },
  {
   "cell_type": "code",
   "execution_count": 8,
   "metadata": {},
   "outputs": [
    {
     "name": "stdout",
     "output_type": "stream",
     "text": [
      "['London' 'Manchester' 'Birmingham' 'Glasgow' 'Bristol' nan]\n"
     ]
    }
   ],
   "source": [
    "location_corrections = {\n",
    "    'Birmingh@m': 'Birmingham',\n",
    "    'Birminghm': 'Birmingham',\n",
    "    'Birmngham': 'Birmingham',\n",
    "    'Glasow': 'Glasgow',  \n",
    "    'Manchester': 'Manchester',  \n",
    "    'London': 'London', \n",
    "    'Bristol': 'Bristol',  \n",
    "}\n",
    "\n",
    "df['Location'] = df['Location'].replace(location_corrections)\n",
    "\n",
    "df['Location'] = df['Location'].str.strip().str.title()\n",
    "\n",
    "print(df['Location'].unique())"
   ]
  },
  {
   "cell_type": "code",
   "execution_count": 9,
   "metadata": {},
   "outputs": [
    {
     "name": "stdout",
     "output_type": "stream",
     "text": [
      "(169, 13)\n",
      "['London' 'Manchester' 'Birmingham' 'Glasgow' 'Bristol']\n",
      "0\n"
     ]
    }
   ],
   "source": [
    "df = df.dropna(subset=['Location'])\n",
    "\n",
    "print(df.shape)\n",
    "print(df['Location'].unique())\n",
    "print(df['Location'].isna().sum())"
   ]
  },
  {
   "cell_type": "code",
   "execution_count": 10,
   "metadata": {},
   "outputs": [],
   "source": [
    "df.to_csv(\"../data/Location_Cleaned.csv\", index=False)"
   ]
  },
  {
   "cell_type": "markdown",
   "metadata": {},
   "source": [
    "### Age format review"
   ]
  },
  {
   "cell_type": "code",
   "execution_count": 11,
   "metadata": {},
   "outputs": [
    {
     "name": "stdout",
     "output_type": "stream",
     "text": [
      "  Transaction ID        Date  Amount (£)  Payment Method Merchant Category  \\\n",
      "0        T000001  2023-01-15      245.67     Credit Card            Retail   \n",
      "1        T000002  2023-02-11       98.34  Mobile Payment   Food & Beverage   \n",
      "2        T000003  2023-03-22      500.25  Digital Wallet            Travel   \n",
      "3        T000004  2023-04-10       75.89      Debit Card     Entertainment   \n",
      "4        T000005  2023-05-30      320.00   Bank Transfer          Services   \n",
      "\n",
      "     Location Customer Segment Transaction Status Sales Channel  \\\n",
      "0      London            26-35          Completed        Online   \n",
      "1  Manchester            18-25            Pending    Mobile App   \n",
      "2  Birmingham            36-45          Completed        Online   \n",
      "3     Glasgow            46-60             Failed      In-Store   \n",
      "4     Bristol              60+           Refunded  Subscription   \n",
      "\n",
      "  Customer Device Type Promotion/Discount Applied   Time Transaction Type  \n",
      "0               Mobile                         No  12:34         Purchase  \n",
      "1              Desktop             Seasonal Offer  08:45         Purchase  \n",
      "2               Mobile                        Yes  14:22         Purchase  \n",
      "3           Smartwatch                         No  16:50         Purchase  \n",
      "4               Tablet    Loyalty Points Redeemed  10:15         Purchase  \n"
     ]
    }
   ],
   "source": [
    "import pandas as pd\n",
    "\n",
    "dfAge = pd.read_csv(\"../data/Location_Cleaned.csv\")  # Replace with the correct path if necessary\n",
    "\n",
    "print(dfAge.head())"
   ]
  },
  {
   "cell_type": "code",
   "execution_count": 12,
   "metadata": {},
   "outputs": [
    {
     "name": "stdout",
     "output_type": "stream",
     "text": [
      "['26-35' '18-25' '36-45' '46-60' '60+']\n"
     ]
    }
   ],
   "source": [
    "dfAge['Customer Segment'] = dfAge['Customer Segment'].str.strip().str.title()\n",
    "\n",
    "dfAge['Customer Segment'] = dfAge['Customer Segment'].replace(re.compile(r'[^a-zA-Z0-9\\s\\-+]+', re.IGNORECASE), '', regex=True)\n",
    "\n",
    "print(dfAge['Customer Segment'].unique())"
   ]
  },
  {
   "cell_type": "markdown",
   "metadata": {},
   "source": [
    "#### No need to clean for age (still working from Location_Cleaned)"
   ]
  },
  {
   "cell_type": "markdown",
   "metadata": {},
   "source": [
    "### Formating the Transaction Status column"
   ]
  },
  {
   "cell_type": "code",
   "execution_count": 13,
   "metadata": {},
   "outputs": [
    {
     "name": "stdout",
     "output_type": "stream",
     "text": [
      "Empty DataFrame\n",
      "Columns: [Transaction ID, Date, Amount (£), Payment Method, Merchant Category, Location, Customer Segment, Transaction Status, Sales Channel, Customer Device Type, Promotion/Discount Applied, Time, Transaction Type]\n",
      "Index: []\n"
     ]
    }
   ],
   "source": [
    "valid_statuses = ['Chargeback', 'Completed', 'Failed', 'Pending', 'Refunded']\n",
    "unexpected_statuses = df[~df['Transaction Status'].isin(valid_statuses)]\n",
    "\n",
    "print(unexpected_statuses)"
   ]
  },
  {
   "cell_type": "code",
   "execution_count": 14,
   "metadata": {},
   "outputs": [],
   "source": [
    "df.to_csv(\"../data/Transaction_data.csv\", index=False)"
   ]
  },
  {
   "cell_type": "code",
   "execution_count": 15,
   "metadata": {},
   "outputs": [
    {
     "name": "stdout",
     "output_type": "stream",
     "text": [
      "['Online' 'Mobile App' 'In-Store' 'Subscription' 'Social Media']\n"
     ]
    }
   ],
   "source": [
    "sales_channel_corrections = {\n",
    "    'On-Line': 'Online', \n",
    "    'Mob App': 'Mobile App',  \n",
    "}\n",
    "\n",
    "df['Sales Channel'] = df['Sales Channel'].replace(sales_channel_corrections)\n",
    "\n",
    "df['Sales Channel'] = df['Sales Channel'].str.strip().str.title()\n",
    "\n",
    "print(df['Sales Channel'].unique())"
   ]
  },
  {
   "cell_type": "code",
   "execution_count": 16,
   "metadata": {},
   "outputs": [
    {
     "name": "stdout",
     "output_type": "stream",
     "text": [
      "Empty DataFrame\n",
      "Columns: [Transaction ID, Date, Amount (£), Payment Method, Merchant Category, Location, Customer Segment, Transaction Status, Sales Channel, Customer Device Type, Promotion/Discount Applied, Time, Transaction Type]\n",
      "Index: []\n"
     ]
    }
   ],
   "source": [
    "valid_sales_channels = ['In-Store', 'Mobile App', 'Online', 'Social Media', 'Subscription']\n",
    "unexpected_sales_channels = df[~df['Sales Channel'].isin(valid_sales_channels)]\n",
    "\n",
    "print(unexpected_sales_channels)"
   ]
  },
  {
   "cell_type": "code",
   "execution_count": 17,
   "metadata": {},
   "outputs": [
    {
     "name": "stdout",
     "output_type": "stream",
     "text": [
      "['Online' 'Mobile App' 'In-Store' 'Subscription' 'Social Media']\n"
     ]
    }
   ],
   "source": [
    "print(df['Sales Channel'].unique())\n"
   ]
  },
  {
   "cell_type": "code",
   "execution_count": 18,
   "metadata": {},
   "outputs": [],
   "source": [
    "df.to_csv(\"../data/Sales_data.csv\", index=False)\n"
   ]
  },
  {
   "cell_type": "code",
   "execution_count": 19,
   "metadata": {},
   "outputs": [
    {
     "name": "stdout",
     "output_type": "stream",
     "text": [
      "['Mobile' 'Desktop' 'Smartwatch' 'Tablet']\n"
     ]
    }
   ],
   "source": [
    "df['Customer Device Type'] = df['Customer Device Type'].str.strip().str.title()\n",
    "\n",
    "print(df['Customer Device Type'].unique())"
   ]
  },
  {
   "cell_type": "code",
   "execution_count": 20,
   "metadata": {},
   "outputs": [
    {
     "name": "stdout",
     "output_type": "stream",
     "text": [
      "Empty DataFrame\n",
      "Columns: [Transaction ID, Date, Amount (£), Payment Method, Merchant Category, Location, Customer Segment, Transaction Status, Sales Channel, Customer Device Type, Promotion/Discount Applied, Time, Transaction Type]\n",
      "Index: []\n"
     ]
    }
   ],
   "source": [
    "valid_device_types = ['Desktop', 'Mobile', 'Smartwatch', 'Tablet']\n",
    "\n",
    "unexpected_device_types = df[~df['Customer Device Type'].isin(valid_device_types)]\n",
    "\n",
    "print(unexpected_device_types)"
   ]
  },
  {
   "cell_type": "code",
   "execution_count": 21,
   "metadata": {},
   "outputs": [
    {
     "name": "stdout",
     "output_type": "stream",
     "text": [
      "['Mobile' 'Desktop' 'Smartwatch' 'Tablet']\n"
     ]
    }
   ],
   "source": [
    "print(df['Customer Device Type'].unique())\n"
   ]
  },
  {
   "cell_type": "code",
   "execution_count": 22,
   "metadata": {},
   "outputs": [],
   "source": [
    "df.to_csv(\"../data/Device_data.csv\", index=False)\n"
   ]
  },
  {
   "cell_type": "markdown",
   "metadata": {},
   "source": [
    "# Seasonal offer corrections"
   ]
  },
  {
   "cell_type": "code",
   "execution_count": 23,
   "metadata": {},
   "outputs": [
    {
     "name": "stdout",
     "output_type": "stream",
     "text": [
      "['No' 'Seasonal Offer' 'Yes' 'Loyalty Points Redeemed'\n",
      " 'First-Time User Discount']\n"
     ]
    }
   ],
   "source": [
    "df['Promotion/Discount Applied'] = df['Promotion/Discount Applied'].replace('Seasonal Offr', 'Seasonal Offer')\n",
    "\n",
    "df['Promotion/Discount Applied'] = df['Promotion/Discount Applied'].str.strip().str.title()\n",
    "\n",
    "print(df['Promotion/Discount Applied'].unique())"
   ]
  },
  {
   "cell_type": "code",
   "execution_count": 24,
   "metadata": {},
   "outputs": [
    {
     "name": "stdout",
     "output_type": "stream",
     "text": [
      "Empty DataFrame\n",
      "Columns: [Transaction ID, Date, Amount (£), Payment Method, Merchant Category, Location, Customer Segment, Transaction Status, Sales Channel, Customer Device Type, Promotion/Discount Applied, Time, Transaction Type]\n",
      "Index: []\n"
     ]
    }
   ],
   "source": [
    "valid_promotions = ['First-Time User Discount', 'Loyalty Points Redeemed', 'No', 'Seasonal Offer', 'Yes']\n",
    "\n",
    "unexpected_promotions = df[~df['Promotion/Discount Applied'].isin(valid_promotions)]\n",
    "\n",
    "print(unexpected_promotions)"
   ]
  },
  {
   "cell_type": "code",
   "execution_count": 25,
   "metadata": {},
   "outputs": [],
   "source": [
    "df.to_csv(\"../data/Seasonal_data.csv\", index=False)\n"
   ]
  },
  {
   "cell_type": "code",
   "execution_count": 26,
   "metadata": {},
   "outputs": [],
   "source": [
    "df.to_csv(\"../data/EXPORT_Cleaned_TPA_data.csv\", index=False)"
   ]
  }
 ],
 "metadata": {
  "kernelspec": {
   "display_name": "venv",
   "language": "python",
   "name": "python3"
  },
  "language_info": {
   "codemirror_mode": {
    "name": "ipython",
    "version": 3
   },
   "file_extension": ".py",
   "mimetype": "text/x-python",
   "name": "python",
   "nbconvert_exporter": "python",
   "pygments_lexer": "ipython3",
   "version": "3.12.2"
  }
 },
 "nbformat": 4,
 "nbformat_minor": 2
}
